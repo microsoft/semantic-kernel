{
 "cells": [
  {
   "attachments": {},
   "cell_type": "markdown",
   "metadata": {},
   "source": [
    "# Basic Loading of the Kernel"
   ]
  },
  {
   "attachments": {},
   "cell_type": "markdown",
   "metadata": {},
   "source": [
    "The Semantic Kernel SDK can be imported from the following nuget feed:"
   ]
  },
  {
   "cell_type": "code",
   "execution_count": null,
   "metadata": {
    "dotnet_interactive": {
     "language": "csharp"
    },
    "polyglot_notebook": {
     "kernelName": "csharp"
    },
    "vscode": {
     "languageId": "polyglot-notebook"
    }
   },
   "outputs": [],
   "source": [
    "#r \"nuget: Microsoft.SemanticKernel, 1.19.0\""
   ]
  },
  {
   "attachments": {},
   "cell_type": "markdown",
   "metadata": {},
   "source": [
    "After adding the nuget package, you can instantiate the kernel:\n"
   ]
  },
  {
   "cell_type": "code",
   "execution_count": null,
   "metadata": {
    "dotnet_interactive": {
     "language": "csharp"
    },
    "polyglot_notebook": {
     "kernelName": "csharp"
    },
    "vscode": {
     "languageId": "polyglot-notebook"
    }
   },
   "outputs": [],
   "source": [
    "using Microsoft.SemanticKernel;\n",
    "using Microsoft.Extensions.Logging;\n",
    "using Microsoft.Extensions.Logging.Abstractions;\n",
    "using Microsoft.Extensions.DependencyInjection;\n",
    "using Kernel = Microsoft.SemanticKernel.Kernel;\n",
    "\n",
    "// Inject your logger \n",
    "// see Microsoft.Extensions.Logging.ILogger @ https://learn.microsoft.com/dotnet/core/extensions/logging\n",
    "ILoggerFactory myLoggerFactory = NullLoggerFactory.Instance;\n",
    "\n",
    "var builder = Kernel.CreateBuilder();\n",
    "builder.Services.AddSingleton(myLoggerFactory);\n",
    "\n",
    "var kernel = builder.Build();"
   ]
  },
  {
   "attachments": {},
   "cell_type": "markdown",
   "metadata": {},
   "source": [
    "When using the kernel for AI requests, the kernel needs some settings like URL and credentials to the AI models.\n",
    "\n",
    "The SDK currently supports OpenAI, Azure OpenAI and HuggingFace. It's also possible to create your own connector and use AI provider of your choice.\n",
    "\n",
    "If you need an Azure OpenAI key, go [here](https://learn.microsoft.com/en-us/azure/cognitive-services/openai/quickstart?pivots=rest-api)."
   ]
  },
  {
   "cell_type": "code",
   "execution_count": null,
   "metadata": {
    "dotnet_interactive": {
     "language": "csharp"
    },
    "polyglot_notebook": {
     "kernelName": "csharp"
    },
    "vscode": {
     "languageId": "polyglot-notebook"
    }
   },
   "outputs": [],
   "source": [
    "Kernel.CreateBuilder()\n",
    ".AddAzureOpenAIChatCompletion(\n",
    "    \"my-finetuned-model\",                   // Azure OpenAI *Deployment Name*\n",
    "    \"https://contoso.openai.azure.com/\",    // Azure OpenAI *Endpoint*\n",
    "    \"...your Azure OpenAI Key...\",          // Azure OpenAI *Key*\n",
    "    serviceId: \"Azure_curie\"                // alias used in the prompt templates' config.json\n",
    ")\n",
    ".AddOpenAIChatCompletion(\n",
    "    \"gpt-4o-mini\",                        // OpenAI Model Name\n",
    "    \"...your OpenAI API Key...\",            // OpenAI API key\n",
    "    \"...your OpenAI Org ID...\",             // *optional* OpenAI Organization ID\n",
    "    serviceId: \"OpenAI_davinci\"             // alias used in the prompt templates' config.json\n",
    ");"
   ]
  },
  {
   "attachments": {},
   "cell_type": "markdown",
   "metadata": {},
   "source": [
    "When working with multiple backends and multiple models, the **first backend** defined\n",
    "is also the \"**default**\" used in these scenarios:\n",
    "\n",
    "* a prompt configuration doesn't specify which AI backend to use\n",
    "* a prompt configuration requires a backend unknown to the kernel"
   ]
  },
  {
   "attachments": {},
   "cell_type": "markdown",
   "metadata": {},
   "source": [
    "Great, now that you're familiar with setting up the Semantic Kernel, let's see [how we can use it to run prompts](02-running-prompts-from-file.ipynb)."
   ]
  }
 ],
 "metadata": {
  "kernelspec": {
   "display_name": ".NET (C#)",
   "language": "C#",
   "name": ".net-csharp"
  },
  "language_info": {
   "file_extension": ".cs",
   "mimetype": "text/x-csharp",
   "name": "C#",
   "pygments_lexer": "csharp",
   "version": "11.0"
  },
  "polyglot_notebook": {
   "kernelInfo": {
    "defaultKernelName": "csharp",
    "items": [
     {
      "aliases": [],
      "name": "csharp"
     }
    ]
   }
  }
 },
 "nbformat": 4,
 "nbformat_minor": 2
}
