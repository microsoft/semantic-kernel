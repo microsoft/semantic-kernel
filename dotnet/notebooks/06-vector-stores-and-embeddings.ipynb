{
 "cells": [
  {
   "attachments": {},
   "cell_type": "markdown",
   "metadata": {},
   "source": [
    "# Vector Stores and Embeddings\n",
    "\n",
    "So far, we've mostly been treating the kernel as a stateless orchestration engine.\n",
    "We send text into a model API and receive text out. \n",
    "\n",
    "In a [previous notebook](04-kernel-arguments-chat.ipynb), we used `kernel arguments` to pass in additional\n",
    "text into prompts to enrich them with more data. This allowed us to create a basic chat experience. \n",
    "\n",
    "However, if you solely relied on kernel arguments, you would quickly realize that eventually your prompt\n",
    "would grow so large that you would run into the model's token limit. What we need is a way to persist state\n",
    "and build both short-term and long-term memory to empower even more intelligent applications. \n",
    "\n",
    "To do this, we dive into the key concept of `Vector Stores` in the Semantic Kernel.\n",
    "\n",
    "More information can be found [here](https://learn.microsoft.com/en-us/semantic-kernel/concepts/vector-store-connectors)."
   ]
  },
  {
   "cell_type": "code",
   "execution_count": null,
   "metadata": {
    "dotnet_interactive": {
     "language": "csharp"
    },
    "polyglot_notebook": {
     "kernelName": "csharp"
    }
   },
   "outputs": [],
   "source": [
    "#r \"nuget: Microsoft.SemanticKernel, 1.24.1\"\n",
    "#r \"nuget: Microsoft.SemanticKernel.Connectors.InMemory, 1.24.1-preview\"\n",
    "#r \"nuget: Microsoft.Extensions.VectorData.Abstractions, 9.0.0-preview.1.24518.1\"\n",
    "#r \"nuget: System.Linq.Async, 6.0.1\"\n",
    "\n",
    "#!import config/Settings.cs\n",
    "\n",
    "using Microsoft.SemanticKernel;\n",
    "using Kernel = Microsoft.SemanticKernel.Kernel;\n",
    "\n",
    "#pragma warning disable SKEXP0010\n",
    "\n",
    "var builder = Kernel.CreateBuilder();\n",
    "\n",
    "// Configure AI service credentials used by the kernel\n",
    "var (useAzureOpenAI, model, azureEndpoint, apiKey, orgId) = Settings.LoadFromFile();\n",
    "\n",
    "if (useAzureOpenAI)\n",
    "{\n",
    "    builder.AddAzureOpenAITextEmbeddingGeneration(\"text-embedding-ada-002\", azureEndpoint, apiKey);\n",
    "}\n",
    "else\n",
    "{\n",
    "    builder.AddOpenAITextEmbeddingGeneration(\"text-embedding-ada-002\", apiKey, orgId);\n",
    "}\n",
    "\n",
    "var kernel = builder.Build();"
   ]
  },
  {
   "attachments": {},
   "cell_type": "markdown",
   "metadata": {},
   "source": [
    "Package `Microsoft.Extensions.VectorData.Abstractions`, which we downloaded in a previous code snippet, contains all necessary abstractions to work with vector stores. \n",
    "\n",
    "Together with abstractions, we also need to use an implementation of a concrete database connector, such as Azure AI Search, Azure CosmosDB, Qdrant, Redis and so on. A list of supported connectors can be found [here](https://learn.microsoft.com/en-us/semantic-kernel/concepts/vector-store-connectors/out-of-the-box-connectors/).\n",
    "\n",
    "In this example, we are going to use the in-memory connector for demonstration purposes - `Microsoft.SemanticKernel.Connectors.InMemory`."
   ]
  },
  {
   "cell_type": "markdown",
   "metadata": {},
   "source": [
    "## Define your model\n",
    "\n",
    "It all starts from defining your data model. In abstractions, there are three main data model property types:\n",
    "\n",
    "1. Key\n",
    "2. Data\n",
    "3. Vector\n",
    "\n",
    "In most cases, a data model contains one key property, multiple data and vector properties, but some connectors may have restrictions, for example when only one vector property is supported. \n",
    "\n",
    "Also, each connector supports a different set of property types. For more information about supported property types in each connector, visit the connector's page, which can be found [here](https://learn.microsoft.com/en-us/semantic-kernel/concepts/vector-store-connectors/out-of-the-box-connectors/).\n",
    "\n",
    "There are two ways how to define your data model - using attributes (declarative way) or record definition (imperative way).\n",
    "\n",
    "Here is how a data model could look like with attributes:"
   ]
  },
  {
   "cell_type": "code",
   "execution_count": 7,
   "metadata": {
    "dotnet_interactive": {
     "language": "csharp"
    },
    "polyglot_notebook": {
     "kernelName": "csharp"
    }
   },
   "outputs": [],
   "source": [
    "using Microsoft.Extensions.VectorData;\n",
    "\n",
    "public sealed class Glossary\n",
    "{\n",
    "    [VectorStoreRecordKey]\n",
    "    public ulong Key { get; set; }\n",
    "\n",
    "    [VectorStoreRecordData]\n",
    "    public string Term { get; set; }\n",
    "\n",
    "    [VectorStoreRecordData]\n",
    "    public string Definition { get; set; }\n",
    "\n",
    "    [VectorStoreRecordVector(Dimensions: 1536)]\n",
    "    public ReadOnlyMemory<float> DefinitionEmbedding { get; set; }\n",
    "}"
   ]
  },
  {
   "cell_type": "markdown",
   "metadata": {},
   "source": [
    "More information about each attribute and its properties can be found [here](https://learn.microsoft.com/en-us/semantic-kernel/concepts/vector-store-connectors/defining-your-data-model#attributes)."
   ]
  },
  {
   "cell_type": "markdown",
   "metadata": {},
   "source": [
    "There could be a case when you can't modify the existing class with attributes. In this case, you can define a separate record definition with all the information about your properties. Note that the defined data model class is still required in this case:"
   ]
  },
  {
   "cell_type": "code",
   "execution_count": 21,
   "metadata": {
    "dotnet_interactive": {
     "language": "csharp"
    },
    "polyglot_notebook": {
     "kernelName": "csharp"
    }
   },
   "outputs": [],
   "source": [
    "public sealed class GlossaryWithoutAttributes\n",
    "{\n",
    "    public ulong Key { get; set; }\n",
    "\n",
    "    public string Term { get; set; }\n",
    "\n",
    "    public string Definition { get; set; }\n",
    "\n",
    "    public ReadOnlyMemory<float> DefinitionEmbedding { get; set; }\n",
    "}\n",
    "\n",
    "var recordDefinition = new VectorStoreRecordDefinition()\n",
    "{\n",
    "    Properties = new List<VectorStoreRecordProperty>()\n",
    "    {\n",
    "        new VectorStoreRecordKeyProperty(\"Key\", typeof(ulong)),\n",
    "        new VectorStoreRecordDataProperty(\"Term\", typeof(string)),\n",
    "        new VectorStoreRecordDataProperty(\"Definition\", typeof(string)),\n",
    "        new VectorStoreRecordVectorProperty(\"DefinitionEmbedding\", typeof(ReadOnlyMemory<float>)) { Dimensions = 1536 }\n",
    "    }\n",
    "};"
   ]
  },
  {
   "cell_type": "markdown",
   "metadata": {},
   "source": [
    "## Define main components\n",
    "\n",
    "As soon as you define your data model with either attributes or the record definition approach, you can start using it with your database of choice. \n",
    "\n",
    "There are a couple of abstractions that allow you to work with your database and collections:\n",
    "\n",
    "1. `IVectorStoreRecordCollection<TKey, TRecord>` - represents a collection. This collection may or may not exist, and the interface provides methods to check if the collection exists, create it or delete it. The interface also provides methods to upsert, get and delete records. Finally, the interface inherits from `IVectorizedSearch<TRecord>` providing vector search capabilities.\n",
    "2. `IVectorStore` - contains operations that spans across all collections in the vector store, e.g. `ListCollectionNames`. It also provides the ability to get `IVectorStoreRecordCollection<TKey, TRecord>` instances.\n",
    "\n",
    "Each connector has extension methods to register your vector store and collection using DI - `services.AddInMemoryVectorStore()` or `services.AddInMemoryVectorStoreRecordCollection(\"collection-name\")`. \n",
    "\n",
    "It's also possible to initialize these instances directly, which we are going to do in this notebook for simplicity:"
   ]
  },
  {
   "cell_type": "code",
   "execution_count": 9,
   "metadata": {
    "dotnet_interactive": {
     "language": "csharp"
    },
    "polyglot_notebook": {
     "kernelName": "csharp"
    }
   },
   "outputs": [],
   "source": [
    "using Microsoft.SemanticKernel.Connectors.InMemory;\n",
    "\n",
    "#pragma warning disable SKEXP0020\n",
    "\n",
    "// Define vector store\n",
    "var vectorStore = new InMemoryVectorStore();\n",
    "\n",
    "// Get a collection instance using vector store\n",
    "var collection = vectorStore.GetCollection<ulong, Glossary>(\"skglossary\");\n",
    "\n",
    "// Get a collection instance by initializing it directly\n",
    "var collection2 = new InMemoryVectorStoreRecordCollection<ulong, Glossary>(\"skglossary\");"
   ]
  },
  {
   "cell_type": "markdown",
   "metadata": {},
   "source": [
    "Initializing a collection instance will allow you to work with your collection and data, but it doesn't mean that this collection already exists in a database. To ensure you are working with existing collection, you can create it if it doesn't exist:"
   ]
  },
  {
   "cell_type": "code",
   "execution_count": 10,
   "metadata": {
    "dotnet_interactive": {
     "language": "csharp"
    },
    "polyglot_notebook": {
     "kernelName": "csharp"
    }
   },
   "outputs": [],
   "source": [
    "await collection.CreateCollectionIfNotExistsAsync();"
   ]
  },
  {
   "cell_type": "markdown",
   "metadata": {},
   "source": [
    "Now, since we just created a new collection, it is empty, so we want to insert some records using the data model we defined above:"
   ]
  },
  {
   "cell_type": "code",
   "execution_count": 11,
   "metadata": {
    "dotnet_interactive": {
     "language": "csharp"
    },
    "polyglot_notebook": {
     "kernelName": "csharp"
    }
   },
   "outputs": [],
   "source": [
    "var glossaryEntries = new List<Glossary>()\n",
    "{\n",
    "    new Glossary() \n",
    "    {\n",
    "        Key = 1,\n",
    "        Term = \"API\",\n",
    "        Definition = \"Application Programming Interface. A set of rules and specifications that allow software components to communicate and exchange data.\"\n",
    "    },\n",
    "    new Glossary() \n",
    "    {\n",
    "        Key = 2,\n",
    "        Term = \"Connectors\",\n",
    "        Definition = \"Connectors allow you to integrate with various services provide AI capabilities, including LLM, AudioToText, TextToAudio, Embedding generation, etc.\"\n",
    "    },\n",
    "    new Glossary() \n",
    "    {\n",
    "        Key = 3,\n",
    "        Term = \"RAG\",\n",
    "        Definition = \"Retrieval Augmented Generation - a term that refers to the process of retrieving additional data to provide as context to an LLM to use when generating a response (completion) to a user's question (prompt).\"\n",
    "    }\n",
    "};"
   ]
  },
  {
   "cell_type": "markdown",
   "metadata": {},
   "source": [
    "If we want to perform a vector search on our records in the database, initializing just the key and data properties is not enough, we also need to generate and initialize vector properties. For that, we can use `ITextEmbeddingGenerationService` which we already registered above.\n",
    "\n",
    "The line `#pragma warning disable SKEXP0001` is required because `ITextEmbeddingGenerationService` interface is experimental and may change in the future."
   ]
  },
  {
   "cell_type": "code",
   "execution_count": 14,
   "metadata": {
    "dotnet_interactive": {
     "language": "csharp"
    },
    "polyglot_notebook": {
     "kernelName": "csharp"
    }
   },
   "outputs": [],
   "source": [
    "using Microsoft.SemanticKernel.Embeddings;\n",
    "\n",
    "#pragma warning disable SKEXP0001\n",
    "\n",
    "var textEmbeddingGenerationService = kernel.GetRequiredService<ITextEmbeddingGenerationService>();\n",
    "\n",
    "var tasks = glossaryEntries.Select(entry => Task.Run(async () =>\n",
    "{\n",
    "    entry.DefinitionEmbedding = await textEmbeddingGenerationService.GenerateEmbeddingAsync(entry.Definition);\n",
    "}));\n",
    "\n",
    "await Task.WhenAll(tasks);"
   ]
  },
  {
   "cell_type": "markdown",
   "metadata": {},
   "source": [
    "## Upsert records\n",
    "\n",
    "Now our glossary records are ready to be inserted into the database. For that, we can use `collection.UpsertAsync` or `collection.UpsertBatchAsync` methods. Note that this operation is idempotent - if a record with a specific key doesn't exist, it will be inserted. If it already exists, it will be updated. As a result, we should receive the keys of the upserted records:"
   ]
  },
  {
   "cell_type": "code",
   "execution_count": null,
   "metadata": {
    "dotnet_interactive": {
     "language": "csharp"
    },
    "polyglot_notebook": {
     "kernelName": "csharp"
    }
   },
   "outputs": [],
   "source": [
    "await foreach (var key in collection.UpsertBatchAsync(glossaryEntries))\n",
    "{\n",
    "    Console.WriteLine(key);\n",
    "}"
   ]
  },
  {
   "cell_type": "markdown",
   "metadata": {},
   "source": [
    "## Get records by key\n",
    "\n",
    "In order to ensure our records were upserted correctly, we can get these records by a key with `collection.GetAsync` or `collection.GetBatchAsync` methods. \n",
    "\n",
    "Both methods accept `GetRecordOptions` class as a parameter, where you can specify if you want to include vector properties in your response or not. Taking into account that the vector dimension value can be high, if you don't need to work with vectors in your code, it's recommended to not fetch them from the database. That's why `GetRecordOptions.IncludeVectors` property is `false` by default. \n",
    "\n",
    "In this example, we want to include vectors in the result to ensure that our data was upserted correctly:"
   ]
  },
  {
   "cell_type": "code",
   "execution_count": null,
   "metadata": {
    "dotnet_interactive": {
     "language": "csharp"
    },
    "polyglot_notebook": {
     "kernelName": "csharp"
    }
   },
   "outputs": [],
   "source": [
    "var options = new GetRecordOptions() { IncludeVectors = true };\n",
    "\n",
    "await foreach (var record in collection.GetBatchAsync(keys: [1, 2, 3], options))\n",
    "{\n",
    "    Console.WriteLine($\"Key: {record.Key}\");\n",
    "    Console.WriteLine($\"Term: {record.Term}\");\n",
    "    Console.WriteLine($\"Definition: {record.Definition}\");\n",
    "    Console.WriteLine($\"Definition Embedding: {JsonSerializer.Serialize(record.DefinitionEmbedding)}\");\n",
    "}"
   ]
  },
  {
   "cell_type": "markdown",
   "metadata": {},
   "source": [
    "## Perform a search\n",
    "\n",
    "Since we ensured that our records are already in the database, we can perform a vector search with `collection.VectorizedSearchAsync` method. \n",
    "\n",
    "This method accepts the `VectorSearchOptions` class as a parameter, which allows configuration of the vector search operation - specify the maximum number of records to return, the number of results to skip before returning results, a search filter to use before doing the vector search and so on. More information about it can be found [here](https://learn.microsoft.com/en-us/semantic-kernel/concepts/vector-store-connectors/vector-search#vector-search-options).\n",
    "\n",
    "To perform a vector search, we need a vector generated from our query string:"
   ]
  },
  {
   "cell_type": "code",
   "execution_count": 18,
   "metadata": {
    "dotnet_interactive": {
     "language": "csharp"
    },
    "polyglot_notebook": {
     "kernelName": "csharp"
    }
   },
   "outputs": [],
   "source": [
    "#pragma warning disable SKEXP0001\n",
    "\n",
    "var searchString = \"I want to learn more about Connectors\";\n",
    "var searchVector = await textEmbeddingGenerationService.GenerateEmbeddingAsync(searchString);"
   ]
  },
  {
   "cell_type": "markdown",
   "metadata": {},
   "source": [
    "As soon as we have our search vector, we can perform a search operation. The result of the `collection.VectorizedSearchAsync` method will be a collection of records from the database with their search scores:"
   ]
  },
  {
   "cell_type": "code",
   "execution_count": null,
   "metadata": {
    "dotnet_interactive": {
     "language": "csharp"
    },
    "polyglot_notebook": {
     "kernelName": "csharp"
    }
   },
   "outputs": [],
   "source": [
    "var searchResult = await collection.VectorizedSearchAsync(searchVector);\n",
    "\n",
    "await foreach (var result in searchResult.Results)\n",
    "{\n",
    "    Console.WriteLine($\"Search score: {result.Score}\");\n",
    "    Console.WriteLine($\"Key: {result.Record.Key}\");\n",
    "    Console.WriteLine($\"Term: {result.Record.Term}\");\n",
    "    Console.WriteLine($\"Definition: {result.Record.Definition}\");\n",
    "    Console.WriteLine(\"=========\");\n",
    "}"
   ]
  },
  {
   "cell_type": "markdown",
   "metadata": {},
   "source": [
    "## Additional information\n",
    "\n",
    "There are more concepts related to the vector stores that will allow you to extend the capabilities. Each of them is described in more detail on the Microsoft Learn portal:\n",
    "\n",
    "1. [Generic data model](https://learn.microsoft.com/en-us/semantic-kernel/concepts/vector-store-connectors/generic-data-model) - allows to store and search data without a concrete data model type, using the generic data model instead.\n",
    "2. [Custom mapper](https://learn.microsoft.com/en-us/semantic-kernel/concepts/vector-store-connectors/how-to/vector-store-custom-mapper) - define a custom mapper for a specific connector, when the default mapping logic is not enough to work with a database.\n",
    "3. [Code samples](https://learn.microsoft.com/en-us/semantic-kernel/concepts/vector-store-connectors/code-samples) - end-to-end RAG sample, supporting multiple vectors in the same record, vector search with paging, interoperability with Langchain and more."
   ]
  }
 ],
 "metadata": {
  "kernelspec": {
   "display_name": ".NET (C#)",
   "language": "C#",
   "name": ".net-csharp"
  },
  "language_info": {
   "name": "polyglot-notebook"
  },
  "polyglot_notebook": {
   "kernelInfo": {
    "defaultKernelName": "csharp",
    "items": [
     {
      "aliases": [],
      "name": "csharp"
     }
    ]
   }
  }
 },
 "nbformat": 4,
 "nbformat_minor": 2
}
