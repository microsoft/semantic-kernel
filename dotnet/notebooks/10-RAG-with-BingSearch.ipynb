{
 "cells": [
  {
   "attachments": {},
   "cell_type": "markdown",
   "metadata": {},
   "source": [
    "# RAG with BingSearch \n",
    "\n",
    "This notebook explains how to integrate Bing Search with the Semantic Kernel  to get the latest information from the internet.\n",
    "\n",
    "To use Bing Search you simply need a Bing Search API key. You can get the API key by creating a [Bing Search resource](https://learn.microsoft.com/en-us/bing/search-apis/bing-web-search/create-bing-search-service-resource) in Azure. \n",
    "\n",
    "To learn more read the following [documentation](https://learn.microsoft.com/en-us/bing/search-apis/bing-web-search/overview).\n"
   ]
  },
  {
   "attachments": {},
   "cell_type": "markdown",
   "metadata": {},
   "source": [
    "Prepare a Semantic Kernel instance first, loading also the AI backend settings defined in the [Setup notebook](0-AI-settings.ipynb):"
   ]
  },
  {
   "cell_type": "code",
   "execution_count": null,
   "metadata": {
    "dotnet_interactive": {
     "language": "csharp"
    },
    "polyglot_notebook": {
     "kernelName": "csharp"
    }
   },
   "outputs": [],
   "source": [
    "#r \"nuget: Microsoft.SemanticKernel, 1.23.0\"\n",
    "#r \"nuget: Microsoft.SemanticKernel.Plugins.Web, 1.23.0-alpha\"\n",
    "#r \"nuget: Microsoft.SemanticKernel.Plugins.Core, 1.23.0-alpha\"\n",
    "#r \"nuget: Microsoft.SemanticKernel.PromptTemplates.Handlebars, 1.23.0-alpha\"\n",
    "\n",
    "#!import config/Settings.cs\n",
    "#!import config/Utils.cs"
   ]
  },
  {
   "attachments": {},
   "cell_type": "markdown",
   "metadata": {},
   "source": [
    "Enter your Bing Search Key in BING_KEY using `InteractiveKernel` method as introduced in [`.NET Interactive`](https://github.com/dotnet/interactive/blob/main/docs/kernels-overview.md)"
   ]
  },
  {
   "cell_type": "code",
   "execution_count": null,
   "metadata": {
    "dotnet_interactive": {
     "language": "csharp"
    },
    "polyglot_notebook": {
     "kernelName": "csharp"
    }
   },
   "outputs": [],
   "source": [
    "using InteractiveKernel = Microsoft.DotNet.Interactive.Kernel;\n",
    "\n",
    "string BING_KEY = (await InteractiveKernel.GetPasswordAsync(\"Please enter your Bing Search Key\")).GetClearTextPassword();"
   ]
  },
  {
   "cell_type": "markdown",
   "metadata": {},
   "source": [
    "## Basic search plugin\n",
    "\n",
    "The sample below shows how to create a plugin named SearchPlugin from an instance of `BingTextSearch`. Using `CreateWithSearch` creates a new plugin with a single Search function that calls the underlying text search implementation. The SearchPlugin is added to the Kernel which makes it available to be called during prompt rendering. The prompt template includes a call to `{{SearchPlugin.Search $query}}` which will invoke the SearchPlugin to retrieve results related to the current query. The results are then inserted into the rendered prompt before it is sent to the AI model."
   ]
  },
  {
   "cell_type": "code",
   "execution_count": null,
   "metadata": {
    "dotnet_interactive": {
     "language": "csharp"
    },
    "polyglot_notebook": {
     "kernelName": "csharp"
    }
   },
   "outputs": [],
   "source": [
    "using Microsoft.SemanticKernel;\n",
    "using Microsoft.SemanticKernel.Data;\n",
    "using Microsoft.SemanticKernel.Plugins.Web.Bing;\n",
    "using Kernel = Microsoft.SemanticKernel.Kernel;\n",
    "\n",
    "// Create a kernel with OpenAI chat completion\n",
    "var builder = Kernel.CreateBuilder();\n",
    "\n",
    "// Configure AI backend used by the kernel\n",
    "var (useAzureOpenAI, model, azureEndpoint, apiKey, orgId) = Settings.LoadFromFile();\n",
    "if (useAzureOpenAI)\n",
    "    builder.AddAzureOpenAIChatCompletion(model, azureEndpoint, apiKey);\n",
    "else\n",
    "    builder.AddOpenAIChatCompletion(model, apiKey, orgId);\n",
    "var kernel = builder.Build();\n",
    "\n",
    "// Create a text search using Bing search\n",
    "#pragma warning disable SKEXP0050\n",
    "var textSearch = new BingTextSearch(apiKey: BING_KEY);\n",
    "\n",
    "// Build a text search plugin with Bing search and add to the kernel\n",
    "var searchPlugin = textSearch.CreateWithSearch(\"SearchPlugin\");\n",
    "kernel.Plugins.Add(searchPlugin);\n",
    "\n",
    "// Invoke prompt and use text search plugin to provide grounding information\n",
    "var query = \"What is the Semantic Kernel?\";\n",
    "var prompt = \"{{SearchPlugin.Search $query}}. {{$query}}\";\n",
    "KernelArguments arguments = new() { { \"query\", query } };\n",
    "Console.WriteLine(await kernel.InvokePromptAsync(prompt, arguments));"
   ]
  },
  {
   "cell_type": "markdown",
   "metadata": {},
   "source": [
    "## Search plugin with citations\n",
    "\n",
    "The sample below repeats the pattern described in the previous section with a few notable changes:\n",
    "\n",
    "1. `CreateWithGetTextSearchResults` is used to create a `SearchPlugin` which calls the `GetTextSearchResults` method from the underlying text search implementation.\n",
    "2. The prompt template uses Handlebars syntax. This allows the template to iterate over the search results and render the name, value and link for each result.\n",
    "3. The prompt includes an instruction to include citations, so the AI model will do the work of adding citations to the response."
   ]
  },
  {
   "cell_type": "code",
   "execution_count": null,
   "metadata": {
    "dotnet_interactive": {
     "language": "csharp"
    },
    "polyglot_notebook": {
     "kernelName": "csharp"
    }
   },
   "outputs": [],
   "source": [
    "using Microsoft.SemanticKernel;\n",
    "using Microsoft.SemanticKernel.Data;\n",
    "using Microsoft.SemanticKernel.Plugins.Web.Bing;\n",
    "using Microsoft.SemanticKernel.PromptTemplates.Handlebars;\n",
    "using Kernel = Microsoft.SemanticKernel.Kernel;\n",
    "\n",
    "// Create a kernel with OpenAI chat completion\n",
    "var builder = Kernel.CreateBuilder();\n",
    "\n",
    "// Configure AI backend used by the kernel\n",
    "var (useAzureOpenAI, model, azureEndpoint, apiKey, orgId) = Settings.LoadFromFile();\n",
    "if (useAzureOpenAI)\n",
    "    builder.AddAzureOpenAIChatCompletion(model, azureEndpoint, apiKey);\n",
    "else\n",
    "    builder.AddOpenAIChatCompletion(model, apiKey, orgId);\n",
    "var kernel = builder.Build();\n",
    "\n",
    "// Create a text search using Bing search\n",
    "#pragma warning disable SKEXP0050\n",
    "var textSearch = new BingTextSearch(apiKey: BING_KEY);\n",
    "\n",
    "// Build a text search plugin with Bing search and add to the kernel\n",
    "var searchPlugin = textSearch.CreateWithGetTextSearchResults(\"SearchPlugin\");\n",
    "kernel.Plugins.Add(searchPlugin);\n",
    "\n",
    "// Invoke prompt and use text search plugin to provide grounding information\n",
    "var query = \"What is the Semantic Kernel?\";\n",
    "string promptTemplate = \"\"\"\n",
    "{{#with (SearchPlugin-GetTextSearchResults query)}}  \n",
    "    {{#each this}}  \n",
    "    Name: {{Name}}\n",
    "    Value: {{Value}}\n",
    "    Link: {{Link}}\n",
    "    -----------------\n",
    "    {{/each}}  \n",
    "{{/with}}  \n",
    "\n",
    "{{query}}\n",
    "\n",
    "Include citations to the relevant information where it is referenced in the response.\n",
    "\"\"\";\n",
    "KernelArguments arguments = new() { { \"query\", query } };\n",
    "HandlebarsPromptTemplateFactory promptTemplateFactory = new();\n",
    "Console.WriteLine(await kernel.InvokePromptAsync(\n",
    "    promptTemplate,\n",
    "    arguments,\n",
    "    templateFormat: HandlebarsPromptTemplateFactory.HandlebarsTemplateFormat,\n",
    "    promptTemplateFactory: promptTemplateFactory\n",
    "));"
   ]
  },
  {
   "cell_type": "markdown",
   "metadata": {},
   "source": [
    "## Search plugin with a filter\n",
    "\n",
    "The samples shown so far will use the top ranked web search results to provide the grounding data. To provide more reliability in the data the web search can be restricted to only return results from a specified site.\n",
    "\n",
    "The sample below builds on the previous one to add filtering of the search results.\n",
    "A `TextSearchFilter` with an equality clause is used to specify that only results from the Microsoft Developer Blogs site (`site == 'devblogs.microsoft.com'`) are to be included in the search results.\n",
    "\n",
    "The sample uses `KernelPluginFactory.CreateFromFunctions` to create the `SearchPlugin`.\n",
    "A custom description is provided for the plugin.\n",
    "The `ITextSearch.CreateGetTextSearchResults` extension method is used to create the `KernelFunction` which invokes the text search service."
   ]
  },
  {
   "cell_type": "code",
   "execution_count": null,
   "metadata": {
    "dotnet_interactive": {
     "language": "csharp"
    },
    "polyglot_notebook": {
     "kernelName": "csharp"
    }
   },
   "outputs": [],
   "source": [
    "using Microsoft.SemanticKernel;\n",
    "using Microsoft.SemanticKernel.Data;\n",
    "using Microsoft.SemanticKernel.PromptTemplates.Handlebars;\n",
    "using Microsoft.SemanticKernel.Plugins.Web.Bing;\n",
    "\n",
    "// Create a kernel with OpenAI chat completion\n",
    "var builder = Kernel.CreateBuilder();\n",
    "\n",
    "// Configure AI backend used by the kernel\n",
    "var (useAzureOpenAI, model, azureEndpoint, apiKey, orgId) = Settings.LoadFromFile();\n",
    "if (useAzureOpenAI)\n",
    "    builder.AddAzureOpenAIChatCompletion(model, azureEndpoint, apiKey);\n",
    "else\n",
    "    builder.AddOpenAIChatCompletion(model, apiKey, orgId);\n",
    "var kernel = builder.Build();\n",
    "\n",
    "// Create a text search using Bing search\n",
    "#pragma warning disable SKEXP0050\n",
    "var textSearch = new BingTextSearch(apiKey: BING_KEY);\n",
    "\n",
    "// Create a filter to search only the Microsoft Developer Blogs site\n",
    "#pragma warning disable SKEXP0001\n",
    "var filter = new TextSearchFilter().Equality(\"site\", \"devblogs.microsoft.com\");\n",
    "var searchOptions = new TextSearchOptions() { Filter = filter };\n",
    "\n",
    "// Build a text search plugin with Bing search and add to the kernel\n",
    "var searchPlugin = KernelPluginFactory.CreateFromFunctions(\n",
    "    \"SearchPlugin\", \"Search Microsoft Developer Blogs site only\",\n",
    "    [textSearch.CreateGetTextSearchResults(searchOptions: searchOptions)]);\n",
    "kernel.Plugins.Add(searchPlugin);\n",
    "\n",
    "// Invoke prompt and use text search plugin to provide grounding information\n",
    "var query = \"What is the Semantic Kernel?\";\n",
    "string promptTemplate = \"\"\"\n",
    "{{#with (SearchPlugin-GetTextSearchResults query)}}  \n",
    "    {{#each this}}  \n",
    "    Name: {{Name}}\n",
    "    Value: {{Value}}\n",
    "    Link: {{Link}}\n",
    "    -----------------\n",
    "    {{/each}}  \n",
    "{{/with}}  \n",
    "\n",
    "{{query}}\n",
    "\n",
    "Include citations to the relevant information where it is referenced in the response.\n",
    "\"\"\";\n",
    "KernelArguments arguments = new() { { \"query\", query } };\n",
    "HandlebarsPromptTemplateFactory promptTemplateFactory = new();\n",
    "Console.WriteLine(await kernel.InvokePromptAsync(\n",
    "    promptTemplate,\n",
    "    arguments,\n",
    "    templateFormat: HandlebarsPromptTemplateFactory.HandlebarsTemplateFormat,\n",
    "    promptTemplateFactory: promptTemplateFactory\n",
    "));\n"
   ]
  }
 ],
 "metadata": {
  "kernelspec": {
   "display_name": ".NET (C#)",
   "language": "C#",
   "name": ".net-csharp"
  },
  "language_info": {
   "name": "polyglot-notebook"
  },
  "orig_nbformat": 4,
  "polyglot_notebook": {
   "kernelInfo": {
    "defaultKernelName": "csharp",
    "items": [
     {
      "aliases": [],
      "name": "csharp"
     }
    ]
   }
  }
 },
 "nbformat": 4,
 "nbformat_minor": 2
}
