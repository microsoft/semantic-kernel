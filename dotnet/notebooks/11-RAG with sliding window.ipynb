{
 "cells": [
  {
   "cell_type": "code",
   "execution_count": 1,
   "id": "5921cb9c",
   "metadata": {
    "polyglot_notebook": {
     "kernelName": "csharp"
    },
    "vscode": {
     "languageId": "polyglot-notebook"
    }
   },
   "outputs": [
    {
     "name": "stdout",
     "output_type": "stream",
     "text": [
      "C# Kernel is working!\r\n"
     ]
    }
   ],
   "source": [
    "#!csharp\n",
    "Console.WriteLine(\"C# Kernel is working!\");"
   ]
  },
  {
   "cell_type": "code",
   "execution_count": 3,
   "id": "42b73409",
   "metadata": {
    "polyglot_notebook": {
     "kernelName": "csharp"
    },
    "vscode": {
     "languageId": "polyglot-notebook"
    }
   },
   "outputs": [],
   "source": [
    "#!import config/Settings.cs\n",
    "// Configure AI backend used by the kernel\n",
    "var (useAzureOpenAI, model, azureEndpoint, apiKey, orgId) = Settings.LoadFromFile();"
   ]
  },
  {
   "cell_type": "markdown",
   "id": "c1ab5491",
   "metadata": {},
   "source": [
    "### RAG\n",
    "Retrieval-augmented generation (RAG) lets you extend the knowledge of the base LLM you're using in your agent. \n",
    "\n",
    "The way it works is: \n",
    "1. Add your own knowledge (in the form of documents or data snippets) to a vector database\n",
    "2. Call that database to extract relevant data when the LLM is called\n",
    "3. Feed your data into the LLM's prompt alongside the user query\n",
    "\n",
    "Knowing the specifics of vector retrieval is outside the scope of this exercise, but at a broad level, it is not a simple string match. Instead, searching vector space enables searching for _semantic_ similarities, or searching by meaning instead of specific text."
   ]
  },
  {
   "cell_type": "code",
   "execution_count": 4,
   "id": "c1db07c6",
   "metadata": {
    "polyglot_notebook": {
     "kernelName": "csharp"
    },
    "vscode": {
     "languageId": "polyglot-notebook"
    }
   },
   "outputs": [
    {
     "data": {
      "text/html": [
       "<div><div></div><div></div><div><strong>Installed Packages</strong><ul><li><span>Azure.AI.OpenAI, 2.1.0</span></li><li><span>Azure.Identity, 1.14.0</span></li><li><span>Newtonsoft.Json, 13.0.3</span></li><li><span>Qdrant.Client, 1.7.0</span></li><li><span>System.Text.Json, 9.0.5</span></li></ul></div></div>"
      ]
     },
     "metadata": {},
     "output_type": "display_data"
    }
   ],
   "source": [
    "#r \"nuget: Azure.AI.OpenAI\"\n",
    "#r \"nuget: Azure.Identity\"\n",
    "#r \"nuget: Newtonsoft.Json\"\n",
    "#r \"nuget: Qdrant.Client, 1.6.0\"\n",
    "#r \"nuget: System.Text.Json\""
   ]
  },
  {
   "cell_type": "code",
   "execution_count": 5,
   "id": "abb1b6a1",
   "metadata": {
    "polyglot_notebook": {
     "kernelName": "csharp"
    },
    "vscode": {
     "languageId": "polyglot-notebook"
    }
   },
   "outputs": [],
   "source": [
    "using System;\n",
    "using Azure;\n",
    "using Azure.Identity;\n",
    "using Azure.AI.OpenAI;\n",
    "using System.Linq;\n",
    "using Newtonsoft.Json.Linq;"
   ]
  },
  {
   "cell_type": "markdown",
   "id": "8e818604",
   "metadata": {},
   "source": [
    "Lets see how we can vectorize a sentence using Azure Open AI pre trained embeddings"
   ]
  },
  {
   "cell_type": "markdown",
   "id": "2f7ef1a0",
   "metadata": {},
   "source": [
    "1. Instantiate Embeddings"
   ]
  },
  {
   "cell_type": "code",
   "execution_count": 6,
   "id": "2811a722",
   "metadata": {
    "polyglot_notebook": {
     "kernelName": "csharp"
    },
    "vscode": {
     "languageId": "polyglot-notebook"
    }
   },
   "outputs": [],
   "source": [
    "//Use your AzureOpenAIClient setup\n",
    "var openAIClient = new AzureOpenAIClient(new Uri(azureEndpoint), new Azure.Identity.DefaultAzureCredential());\n",
    "// Create an embedding client for the model\n",
    "var embeddingClient = openAIClient.GetEmbeddingClient(\"text-embedding-ada-002\");"
   ]
  },
  {
   "cell_type": "markdown",
   "id": "a29804f8",
   "metadata": {},
   "source": [
    "2. Embed the sentence"
   ]
  },
  {
   "cell_type": "code",
   "execution_count": 7,
   "id": "0a370afd",
   "metadata": {
    "polyglot_notebook": {
     "kernelName": "csharp"
    },
    "vscode": {
     "languageId": "polyglot-notebook"
    }
   },
   "outputs": [
    {
     "name": "stdout",
     "output_type": "stream",
     "text": [
      "Embedding: 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\r\n"
     ]
    }
   ],
   "source": [
    "string input = \"Microsoft Threat Protection Research (MTP-R) will become an AI powerhouse.\";\n",
    "// Generate the embedding (synchronously or asynchronously)\n",
    "var response = embeddingClient.GenerateEmbedding(input);\n",
    "// Display info\n",
    "string jsonResponse = response.GetRawResponse().Content.ToString();\n",
    "// Parse the JSON response\n",
    "JObject parsedResponse = JObject.Parse(jsonResponse);\n",
    "// Extract the embedding vector\n",
    "string embedding = parsedResponse[\"data\"][0][\"embedding\"].ToString();\n",
    "// Optionally, you can convert the embedding string back to a numerical vector\n",
    "Console.WriteLine(\"Embedding: \" + embedding);"
   ]
  },
  {
   "cell_type": "markdown",
   "id": "5d42a592",
   "metadata": {},
   "source": [
    "The string you see a base64-encoded string representing the raw numerical values of the embedding vector. Embeddings are high-dimensional numeric representations, often transformed into a format like base64 for efficient transmission over networks or storage. The model generates this embedding by processing the input text and outputting a vector of numbers."
   ]
  },
  {
   "cell_type": "code",
   "execution_count": 8,
   "id": "f64e1c14",
   "metadata": {
    "polyglot_notebook": {
     "kernelName": "csharp"
    },
    "vscode": {
     "languageId": "polyglot-notebook"
    }
   },
   "outputs": [
    {
     "name": "stdout",
     "output_type": "stream",
     "text": [
      "-0.027149614, -0.026688302, -0.0025100843, -0.01413788, 0.007876238, 0.034408506, -0.017964063\r\n"
     ]
    }
   ],
   "source": [
    "// Required namespaces\n",
    "using System.Text.Json;\n",
    "\n",
    "public static float[] DecodeEmbedding(string base64String)\n",
    "{\n",
    "    // Step 1: Decode the base64 string into a byte array\n",
    "    byte[] decodedBytes = Convert.FromBase64String(base64String);\n",
    "    \n",
    "    // Step 2: Convert the byte array into a float array (assuming 32-bit floats)\n",
    "    int floatCount = decodedBytes.Length / 4; // Each float is 4 bytes\n",
    "    float[] embedding = new float[floatCount];\n",
    "\n",
    "    for (int i = 0; i < floatCount; i++)\n",
    "    {\n",
    "        embedding[i] = BitConverter.ToSingle(decodedBytes, i * 4);\n",
    "    }\n",
    "\n",
    "    return embedding;\n",
    "}\n",
    "// Decode the embedding\n",
    "float[] embeddingVec = DecodeEmbedding(embedding);\n",
    "Console.WriteLine(string.Join(\", \", embeddingVec.Take(7))); // Display first 7 elements"
   ]
  },
  {
   "cell_type": "code",
   "execution_count": 9,
   "id": "b9896541",
   "metadata": {
    "polyglot_notebook": {
     "kernelName": "csharp"
    },
    "vscode": {
     "languageId": "polyglot-notebook"
    }
   },
   "outputs": [
    {
     "name": "stdout",
     "output_type": "stream",
     "text": [
      "Vector size: 1536\r\n"
     ]
    }
   ],
   "source": [
    "Console.WriteLine($\"Vector size: {embeddingVec.Length}\");"
   ]
  },
  {
   "cell_type": "markdown",
   "id": "f04f7801",
   "metadata": {},
   "source": [
    "Using the same principle - lets:\n",
    "1. Read a document and split it to chunks\n",
    "2. Generate Embeddings per chunk\n",
    "3. Upload the vectors to the Qdrant (document chunks and embeddings)"
   ]
  },
  {
   "cell_type": "code",
   "execution_count": 10,
   "id": "b7adb249",
   "metadata": {
    "polyglot_notebook": {
     "kernelName": "csharp"
    },
    "vscode": {
     "languageId": "polyglot-notebook"
    }
   },
   "outputs": [],
   "source": [
    "// Helping function to generate embedding for the document\n",
    "double[] GetEmbeddingVector(string document)\n",
    "{\n",
    "    // Call the embedding service\n",
    "    var embeddingResult = embeddingClient.GenerateEmbedding(document);\n",
    "\n",
    "    // Extract raw JSON response as string\n",
    "    var embeddingData = embeddingResult.GetRawResponse().Content.ToString();\n",
    "\n",
    "    // Parse the JSON\n",
    "    var jsonDoc = JsonDocument.Parse(embeddingData);\n",
    "    var embeddingArray = jsonDoc.RootElement\n",
    "                                .GetProperty(\"data\")[0]\n",
    "                                .GetProperty(\"embedding\")\n",
    "                                .GetString();\n",
    "\n",
    "    // Decode the string into float[]\n",
    "    float[] embeddingVec = DecodeEmbedding(embeddingArray);\n",
    "\n",
    "    // Convert float[] to double[]\n",
    "    return Array.ConvertAll(embeddingVec, x => (double)x);\n",
    "}"
   ]
  },
  {
   "cell_type": "code",
   "execution_count": 11,
   "id": "b46fee0d",
   "metadata": {
    "polyglot_notebook": {
     "kernelName": "csharp"
    },
    "vscode": {
     "languageId": "polyglot-notebook"
    }
   },
   "outputs": [
    {
     "name": "stdout",
     "output_type": "stream",
     "text": [
      "First 200 chars of the document:\n",
      "\n",
      "SIGNATURE_TYPE_PEHSTR (0x61)\r\n",
      "Location: Signature\\Source\\mavsigs\\hstr\r\n",
      "Extraction tool: Manual\r\n",
      "Compiler: hstr.exe\r\n",
      "Online view: http://avreports/engine/signaturetype.aspx?id=97 \r\n",
      "\r\n",
      "Summary:\r\n",
      "\r\n",
      "An hst\r\n"
     ]
    }
   ],
   "source": [
    "// Relative path to the file inside \"config\" folder\n",
    "string filePath = Path.Combine(\"config\", \"long_document.txt\");\n",
    "// Read all text from the file\n",
    "string my_document = File.ReadAllText(filePath);\n",
    "// Print first 200 characters to confirm\n",
    "Console.WriteLine($\"First 200 chars of the document:\\n\\n{my_document.Substring(0, Math.Min(200, my_document.Length))}\");"
   ]
  },
  {
   "cell_type": "markdown",
   "id": "dd7c578f",
   "metadata": {},
   "source": [
    "Lets split a long document into the list of chunks"
   ]
  },
  {
   "cell_type": "code",
   "execution_count": 12,
   "id": "82577436",
   "metadata": {
    "polyglot_notebook": {
     "kernelName": "csharp"
    },
    "vscode": {
     "languageId": "polyglot-notebook"
    }
   },
   "outputs": [],
   "source": [
    "// Function to split a string into chunks of maxChunkSize characters\n",
    "List<string> SplitIntoChunks(string text, int maxChunkSize)\n",
    "{\n",
    "    var chunks = new List<string>();\n",
    "    for (int i = 0; i < text.Length; i += maxChunkSize)\n",
    "    {\n",
    "        int length = Math.Min(maxChunkSize, text.Length - i);\n",
    "        chunks.Add(text.Substring(i, length));\n",
    "    }\n",
    "    return chunks;\n",
    "}\n",
    "// Split document into chunks of 500 characters\n",
    "var chunks = SplitIntoChunks(my_document, 500);"
   ]
  },
  {
   "cell_type": "markdown",
   "id": "8f769b67",
   "metadata": {},
   "source": [
    "Generate embeddings for each chunk"
   ]
  },
  {
   "cell_type": "code",
   "execution_count": 13,
   "id": "8baa4a41",
   "metadata": {
    "polyglot_notebook": {
     "kernelName": "csharp"
    },
    "vscode": {
     "languageId": "polyglot-notebook"
    }
   },
   "outputs": [],
   "source": [
    "// Prepare points list\n",
    "var pointsList = new List<object>();\n",
    "\n",
    "foreach (var chunk in chunks)\n",
    "{\n",
    "    // Get embedding vector for each chunk\n",
    "    var embeddingAsDouble = GetEmbeddingVector(chunk);\n",
    "\n",
    "    pointsList.Add(new\n",
    "    {\n",
    "        id = Guid.NewGuid().ToString(),\n",
    "        vector = embeddingAsDouble,\n",
    "        payload = new\n",
    "        {\n",
    "            document = chunk\n",
    "        }\n",
    "    });\n",
    "}\n",
    "// Create JSON for uploading all points\n",
    "var json = new\n",
    "{\n",
    "    points = pointsList.ToArray()\n",
    "};"
   ]
  },
  {
   "cell_type": "markdown",
   "id": "db6ee9eb",
   "metadata": {},
   "source": [
    "Upload all chunks as separate points to your Qdrant collection"
   ]
  },
  {
   "cell_type": "code",
   "execution_count": 14,
   "id": "5f3230d7",
   "metadata": {
    "polyglot_notebook": {
     "kernelName": "csharp"
    },
    "vscode": {
     "languageId": "polyglot-notebook"
    }
   },
   "outputs": [],
   "source": [
    "using System.Net.Http;\n",
    "using System.Text;\n",
    "using System.Threading.Tasks;\n",
    "using Qdrant.Client;\n",
    "using Qdrant.Client.Grpc;\n",
    "\n",
    "// Your Qdrant setup\n",
    "var qdrantUrl = \"http://localhost:6333\";\n",
    "var collectionName = \"my-collection\";\n",
    "var apiKey = \"\"; // Optional\n",
    "\n",
    "var httpClient = new HttpClient();\n",
    "if (!string.IsNullOrEmpty(apiKey))\n",
    "    httpClient.DefaultRequestHeaders.Add(\"api-key\", apiKey);"
   ]
  },
  {
   "cell_type": "markdown",
   "id": "641d8672",
   "metadata": {},
   "source": [
    "Delete existing collection before creating (if you want to reset)"
   ]
  },
  {
   "cell_type": "code",
   "execution_count": 15,
   "id": "a05a090f",
   "metadata": {
    "polyglot_notebook": {
     "kernelName": "csharp"
    },
    "vscode": {
     "languageId": "polyglot-notebook"
    }
   },
   "outputs": [
    {
     "name": "stdout",
     "output_type": "stream",
     "text": [
      "[Delete Collection] Status: OK\r\n"
     ]
    }
   ],
   "source": [
    "// to Delete the collection\n",
    "var deleteResponse = await httpClient.DeleteAsync($\"{qdrantUrl}/collections/{collectionName}\");\n",
    "Console.WriteLine($\"[Delete Collection] Status: {deleteResponse.StatusCode}\");"
   ]
  },
  {
   "cell_type": "code",
   "execution_count": null,
   "id": "5a00277a",
   "metadata": {
    "polyglot_notebook": {
     "kernelName": "csharp"
    },
    "vscode": {
     "languageId": "polyglot-notebook"
    }
   },
   "outputs": [
    {
     "name": "stdout",
     "output_type": "stream",
     "text": [
      "[Create Collection] Status: OK\n",
      "{\"result\":true,\"status\":\"ok\",\"time\":0.932855704}\n"
     ]
    }
   ],
   "source": [
    "// 1. Create collection\n",
    "\n",
    "var createCollectionUrl = $\"{qdrantUrl}/collections/{collectionName}\";\n",
    "//Side of each vector in the collection\n",
    "// The size of the vector must match the dimension of your vectors\n",
    "var embeddingSize = 1536; //\n",
    "\n",
    "var createCollectionJson = new\n",
    "{\n",
    "    vectors = new\n",
    "    {\n",
    "        size = embeddingSize, // Must match the dimension of your vectors\n",
    "        distance = \"Cosine\" // Can be \"Cosine\", \"Euclidean\", or \"Dot\"\n",
    "    }\n",
    "};\n",
    "\n",
    "var createCollectionString = JsonSerializer.Serialize(createCollectionJson);\n",
    "var createCollectionContent = new StringContent(createCollectionString, Encoding.UTF8, \"application/json\"); \n",
    "\n",
    "\n",
    "// Make the PUT request to Qdrant to create the collection\n",
    "var createResponse = await httpClient.PutAsync(createCollectionUrl, createCollectionContent);\n",
    "var responseText = await createResponse.Content.ReadAsStringAsync();\n",
    "\n",
    "// Output result\n",
    "Console.WriteLine($\"[Create Collection] Status: {createResponse.StatusCode}\");\n",
    "Console.WriteLine(responseText);"
   ]
  },
  {
   "cell_type": "code",
   "execution_count": 17,
   "id": "0fe7a60e",
   "metadata": {
    "polyglot_notebook": {
     "kernelName": "csharp"
    },
    "vscode": {
     "languageId": "polyglot-notebook"
    }
   },
   "outputs": [],
   "source": [
    "// 2. Read document and split into chunks\n",
    "string filePath = Path.Combine(\"config\", \"long_document.txt\");\n",
    "string my_document = File.ReadAllText(filePath);\n",
    "var chunks = SplitIntoChunks(my_document, 500);\n",
    "\n",
    "// 3. Prepare points list\n",
    "var pointsList = new List<object>();\n",
    "foreach (var chunk in chunks)\n",
    "{\n",
    "    var embeddingAsDouble = GetEmbeddingVector(chunk);\n",
    "    pointsList.Add(new\n",
    "    {\n",
    "        id = Guid.NewGuid().ToString(),\n",
    "        vector = embeddingAsDouble,\n",
    "        payload = new { document = chunk }\n",
    "    });\n",
    "}"
   ]
  },
  {
   "cell_type": "code",
   "execution_count": 18,
   "id": "df51e725",
   "metadata": {
    "polyglot_notebook": {
     "kernelName": "csharp"
    },
    "vscode": {
     "languageId": "polyglot-notebook"
    }
   },
   "outputs": [
    {
     "name": "stdout",
     "output_type": "stream",
     "text": [
      "Collection created and points uploaded successfully.\r\n"
     ]
    }
   ],
   "source": [
    "// 4. Upload points\n",
    "var pointsJson = new { points = pointsList.ToArray() };\n",
    "string pointsJsonString = JsonSerializer.Serialize(pointsJson);\n",
    "var pointsContent = new StringContent(pointsJsonString, Encoding.UTF8, \"application/json\");\n",
    "var uploadResponse = httpClient.PutAsync($\"{qdrantUrl}/collections/{collectionName}/points\", pointsContent).Result;\n",
    "uploadResponse.EnsureSuccessStatusCode();\n",
    "\n",
    "Console.WriteLine(\"Collection created and points uploaded successfully.\");"
   ]
  },
  {
   "cell_type": "markdown",
   "id": "af10c328",
   "metadata": {},
   "source": [
    "Retrieve chunks most similar to the user question"
   ]
  },
  {
   "cell_type": "code",
   "execution_count": 19,
   "id": "50b91e95",
   "metadata": {
    "polyglot_notebook": {
     "kernelName": "csharp"
    },
    "vscode": {
     "languageId": "polyglot-notebook"
    }
   },
   "outputs": [],
   "source": [
    "// 1. User question\n",
    "string userQuestion = \"What is an HSTR signature and how does it function?\";\n",
    "\n",
    "// 2. Embed the question\n",
    "double[] questionVector = GetEmbeddingVector(userQuestion); // You already have this implemented\n",
    "\n",
    "// 3. Search in Qdrant for top matching document chunks\n",
    "var searchBody = new\n",
    "{\n",
    "    vector = questionVector,\n",
    "    limit = 3,\n",
    "    with_payload = true,\n",
    "    with_vector = true\n",
    "};\n",
    "var searchJson = JsonSerializer.Serialize(searchBody);\n",
    "var searchContent = new StringContent(searchJson, Encoding.UTF8, \"application/json\");\n",
    "var searchResponse = await httpClient.PostAsync($\"{qdrantUrl}/collections/{collectionName}/points/search\", searchContent);\n",
    "var searchResult = await searchResponse.Content.ReadAsStringAsync();"
   ]
  },
  {
   "cell_type": "code",
   "execution_count": 20,
   "id": "dfcc59f5",
   "metadata": {
    "polyglot_notebook": {
     "kernelName": "csharp"
    },
    "vscode": {
     "languageId": "polyglot-notebook"
    }
   },
   "outputs": [],
   "source": [
    "// 4. Extract top chunks\n",
    "var parsed = JsonDocument.Parse(searchResult);\n",
    "var results = parsed.RootElement.GetProperty(\"result\");\n",
    "\n",
    "var sb = new StringBuilder();\n",
    "foreach (var item in results.EnumerateArray())\n",
    "{\n",
    "    string doc = item.GetProperty(\"payload\").GetProperty(\"document\").GetString();\n",
    "    sb.AppendLine(doc);\n",
    "}\n",
    "string retrievedContext = sb.ToString();"
   ]
  },
  {
   "cell_type": "code",
   "execution_count": 22,
   "id": "66b26a34",
   "metadata": {
    "polyglot_notebook": {
     "kernelName": "csharp"
    },
    "vscode": {
     "languageId": "polyglot-notebook"
    }
   },
   "outputs": [
    {
     "name": "stdout",
     "output_type": "stream",
     "text": [
      "Assistant: An HSTR signature, also known as a heuristic string signature, is a type of detection mechanism used in antivirus software. It operates by searching through the memory that the emulator has processed after execution for specific strings. When these predefined strings are found, it triggers detection, indicating potential malware or suspicious behavior.\n",
      "\n",
      "HSTR signatures are particularly useful because they examine memory, allowing them to detect threats that may not be visible through static analysis alone. This approach leverages heuristics, which means it can identify new or altered threats based on patterns rather than a predefined list of malware.\n",
      "\n",
      "In practice, when multiple HSTR signatures with the same priority level are detected, the one with the lowest IndexValue is prioritized for reporting. This IndexValue helps manage the specificity and generic nature of the signature, such as distinguishing between a family-specific signature (Index 0) and a broader generic signature (Index 1 or higher).\r\n"
     ]
    }
   ],
   "source": [
    "using Azure;\n",
    "using Azure.Identity;\n",
    "using OpenAI.Assistants;\n",
    "using Azure.AI.OpenAI;\n",
    "using OpenAI.Chat;\n",
    "using static System.Environment;\n",
    "\n",
    "// Initialize Azure OpenAI\n",
    "var (useAzureOpenAI, model, endpoint, apiKey, orgId) = Settings.LoadFromFile();\n",
    "AzureOpenAIClient openAIClient = new AzureOpenAIClient(new Uri(endpoint), new DefaultAzureCredential());\n",
    "ChatClient chatClient = openAIClient.GetChatClient(\"gpt-4o\");\n",
    "// Construct the prompt with the RAG context\n",
    "string finalPrompt = $\"Based in the below context only:\\n{retrievedContext}\\n\\n answer the user question: {userQuestion}\";\n",
    "\n",
    "// Create the chat completion using your AzureOpenAIClient\n",
    "ChatCompletion completion = chatClient.CompleteChat(\n",
    "[\n",
    "    new SystemChatMessage(\"You are a helpful assistant. Read the instructions carefully.\"),\n",
    "    new UserChatMessage(finalPrompt)\n",
    "]);\n",
    "\n",
    "// Print the result\n",
    "Console.WriteLine($\"{completion.Role}: {completion.Content[0].Text}\");"
   ]
  }
 ],
 "metadata": {
  "kernelspec": {
   "display_name": ".NET (C#)",
   "language": "C#",
   "name": ".net-csharp"
  },
  "language_info": {
   "name": "python"
  },
  "polyglot_notebook": {
   "kernelInfo": {
    "defaultKernelName": "csharp",
    "items": [
     {
      "aliases": [],
      "name": "csharp"
     }
    ]
   }
  }
 },
 "nbformat": 4,
 "nbformat_minor": 5
}
